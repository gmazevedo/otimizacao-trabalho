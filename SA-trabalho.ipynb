{
 "cells": [
  {
   "cell_type": "markdown",
   "metadata": {},
   "source": [
    "# Bibliotecas usadas"
   ]
  },
  {
   "cell_type": "code",
   "execution_count": 1,
   "metadata": {},
   "outputs": [],
   "source": [
    "import random\n",
    "import math"
   ]
  },
  {
   "cell_type": "markdown",
   "metadata": {},
   "source": [
    "# Formato do arquivo que contém o grafo\n",
    "* a line with n, m, k\n",
    "* a line with n real numbers, corresponding to the vertex weights\n",
    "* m lines, each with 2 vertex indices (base 0), representing the edges"
   ]
  },
  {
   "cell_type": "markdown",
   "metadata": {},
   "source": [
    "# Funções usadas"
   ]
  },
  {
   "cell_type": "code",
   "execution_count": 4,
   "metadata": {},
   "outputs": [],
   "source": [
    "def randomZeroUm():\n",
    "    return random.randrange(0,1)"
   ]
  },
  {
   "cell_type": "code",
   "execution_count": null,
   "metadata": {},
   "outputs": [],
   "source": [
    "def solInicial(numVertices, numArestas, k):"
   ]
  },
  {
   "cell_type": "code",
   "execution_count": null,
   "metadata": {},
   "outputs": [],
   "source": [
    "def tempInicial(sol, r, itera, pi, numVertices, numArestas, k, pesos):"
   ]
  },
  {
   "cell_type": "code",
   "execution_count": null,
   "metadata": {},
   "outputs": [],
   "source": [
    "def pesoSol(sol, numVertices, numArestas, k, pesos):"
   ]
  },
  {
   "cell_type": "code",
   "execution_count": null,
   "metadata": {},
   "outputs": [],
   "source": [
    "def geraVizinho(sol, numVertices, k):"
   ]
  },
  {
   "cell_type": "markdown",
   "metadata": {},
   "source": [
    "# Implementação do método Simulated Annealing"
   ]
  },
  {
   "cell_type": "code",
   "execution_count": null,
   "metadata": {},
   "outputs": [],
   "source": [
    "def simulatedAnnealing(r, itera, pi, pf, numVertices, numArestas, k, pesos):\n",
    "    # Inicialização\n",
    "    sol = solInicial(numVertices, numArestas, k)\n",
    "    t = tempInicial(sol, r, itera, pi, numVertices, numArestas, k, pesos)\n",
    "    contPf = 0\n",
    "    pesoAtual = pesoSol(sol, numVertices, numArestas, k, pesos)\n",
    "    \n",
    "    # Laço\n",
    "    while contPf < 5: # se >= 5, temperatura esfriou\n",
    "        movFact = 0\n",
    "        tentativaMov = 0\n",
    "        \n",
    "        for i in range(itera):\n",
    "            novaSol = geraVizinho(sol, numVertices, k) #novaSol -> sol \"alternativa\"\n",
    "            pesoCandidato = pesolSol(novaSol, numVertices, numArestas, k, pesos)\n",
    "            \n",
    "            if delta <= 0: # se for movimento de descida\n",
    "                sol = novaSol\n",
    "                pesoAtual = pesoCandidato\n",
    "                contPf = 0\n",
    "                \n",
    "                if delta > 0: # se for movimento de subida\n",
    "                    tentativaMov += 1\n",
    "                    r = randomZeroUm() # número entre 0 e 1\n",
    "                    \n",
    "                    if r < math.exp(delta/t): # e^(delta/t)\n",
    "                        movFact += 1\n",
    "                        sol = novaSol\n",
    "                        pesoAtual = pesoCandidato\n",
    "        \n",
    "        if tentativaMov > 0:\n",
    "            if pf > (movFact/tentativMov):\n",
    "                contPF += 1 # esfria\n",
    "        \n",
    "        t = t * r # reduz a temperatura\n",
    "    \n",
    "    return sol\n",
    "                    "
   ]
  },
  {
   "cell_type": "markdown",
   "metadata": {},
   "source": [
    "# Perguntas:\n",
    "a variável r é inteira ou real?\n",
    "\n",
    "o que vai definir as variáveis pi e pf? elas vão ser entradas do usuário? como que se decide essas variáveis?"
   ]
  }
 ],
 "metadata": {
  "kernelspec": {
   "display_name": "Python 2",
   "language": "python",
   "name": "python2"
  },
  "language_info": {
   "codemirror_mode": {
    "name": "ipython",
    "version": 2
   },
   "file_extension": ".py",
   "mimetype": "text/x-python",
   "name": "python",
   "nbconvert_exporter": "python",
   "pygments_lexer": "ipython2",
   "version": "2.7.17"
  }
 },
 "nbformat": 4,
 "nbformat_minor": 2
}
