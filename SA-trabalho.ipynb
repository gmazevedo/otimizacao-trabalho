{
 "cells": [
  {
   "cell_type": "markdown",
   "metadata": {},
   "source": [
    "# Bibliotecas usadas"
   ]
  },
  {
   "cell_type": "code",
   "execution_count": 1,
   "metadata": {},
   "outputs": [],
   "source": [
    "import random\n",
    "import math\n",
    "from collections import defaultdict"
   ]
  },
  {
   "cell_type": "markdown",
   "metadata": {},
   "source": [
    "# Formato do arquivo que contém o grafo\n",
    "* a line with n, m, k\n",
    "* a line with n real numbers, corresponding to the vertex weights\n",
    "* m lines, each with 2 vertex indices (base 0), representing the edges\n",
    "* EXEMPLE \n",
    "\n",
    " 3 3 3\n",
    " \n",
    " 10.1 21.2 38.3\n",
    " \n",
    " 10.1 21.2\n",
    " \n",
    " 10.1 38.3\n",
    " \n",
    " 38.3 21.2"
   ]
  },
  {
   "cell_type": "markdown",
   "metadata": {},
   "source": [
    "# Funções usadas"
   ]
  },
  {
   "cell_type": "code",
   "execution_count": 1,
   "metadata": {},
   "outputs": [],
   "source": [
    "def random_zero_um():\n",
    "    return random.randrange(0,1)"
   ]
  },
  {
   "cell_type": "code",
   "execution_count": null,
   "metadata": {},
   "outputs": [],
   "source": [
    "def sol_inicial(numVertices, numArestas, k):"
   ]
  },
  {
   "cell_type": "code",
   "execution_count": null,
   "metadata": {},
   "outputs": [],
   "source": [
    "def temp_inicial(sol, r, itera, pi, numVertices, numArestas, k, pesos):"
   ]
  },
  {
   "cell_type": "code",
   "execution_count": null,
   "metadata": {},
   "outputs": [],
   "source": [
    "def peso_sol(sol, numVertices, numArestas, k, pesos):"
   ]
  },
  {
   "cell_type": "code",
   "execution_count": null,
   "metadata": {},
   "outputs": [],
   "source": [
    "def gera_vizinho(sol, numVertices, k):"
   ]
  },
  {
   "cell_type": "code",
   "execution_count": 5,
   "metadata": {},
   "outputs": [],
   "source": [
    "def set_grafo(filePath):\n",
    "    \"\"\" Implementação da leitura de um grafo. \"\"\"\n",
    "    grafo = Grafo()\n",
    "    \n",
    "    with open(\"filepath\",r) as newFile:\n",
    "        grafoRaw = newFile.readlines()\n",
    "\n",
    "        for line in grafoRaw:   \n",
    "            if len (line.split()) == 3:\n",
    "                grafo.adiciona_nmk(line.split())\n",
    "            elif len (line.split()) > 3:\n",
    "                grafo.adiciona_peso(line.split())\n",
    "            elif len (line.split()) == 2:\n",
    "                grafo.adiciona_arestas(line.split())\n",
    "\n",
    "    return grafo"
   ]
  },
  {
   "cell_type": "code",
   "execution_count": 7,
   "metadata": {},
   "outputs": [],
   "source": [
    "class Grafo(object):\n",
    "    \"\"\" Implementação básica de um grafo. \"\"\"\n",
    "\n",
    "    def __init__(self, arestas, direcionado=False):\n",
    "        \"\"\"Inicializa as estruturas base do grafo.\"\"\"\n",
    "        self.adj = defaultdict(set)\n",
    "        self.direcionado = direcionado\n",
    "        self.adiciona_arestas(arestas)\n",
    "        self.nmk = []\n",
    "        self.pesos = defaultdict(set)\n",
    "\n",
    "    def get_vertices(self):\n",
    "        \"\"\" Retorna a lista de vértices do grafo. \"\"\"\n",
    "        return list(self.adj.keys())\n",
    "\n",
    "    def get_arestas(self):\n",
    "        \"\"\" Retorna a lista de arestas do grafo. \"\"\"\n",
    "        return [(k, v) for k in self.adj.keys() for v in self.adj[k]]\n",
    "    \n",
    "    def get_pesos(self):\n",
    "        \"\"\" Retorna a lista de pesos dos vértices do grafo. \"\"\"\n",
    "        return self.pesos\n",
    "   \n",
    "    def get_nmk(self):\n",
    "        \"\"\" Retorna a lista com os valores de n, m e k do grafo. \"\"\"\n",
    "        return self.nmk\n",
    "\n",
    "    def adiciona_arestas(self, arestas):\n",
    "        \"\"\" Adiciona arestas ao grafo. \"\"\"\n",
    "        for u, v in arestas:\n",
    "            self.adiciona_arco(u, v)\n",
    "\n",
    "    def adiciona_arco(self, u, v):\n",
    "        \"\"\" Adiciona uma ligação (arco) entre os nodos 'u' e 'v'. \"\"\"\n",
    "        self.adj[u].add(v)\n",
    "        # Se o grafo é não-direcionado, precisamos adicionar arcos nos dois sentidos.\n",
    "        if not self.direcionado:\n",
    "            self.adj[v].add(u)\n",
    "    \n",
    "    def adiciona_nmk(self, nmk):\n",
    "        \"\"\" Adiciona valores de n, m e k ao grafo. \"\"\"\n",
    "        self.nmk = nmk\n",
    "        \n",
    "    def adiciona_pesos(self, pesos):\n",
    "        \"\"\" Cria lista de pesos dos vértices \"\"\"\n",
    "        i = 0\n",
    "        for peso in pesos:\n",
    "            self.pesos[i].add(peso) \n",
    "\n",
    "    def existe_aresta(self, u, v):\n",
    "        \"\"\" Existe uma aresta entre os vértices 'u' e 'v'? \"\"\"\n",
    "        return u in self.adj and v in self.adj[u]\n",
    "\n",
    "\n",
    "    def __len__(self):\n",
    "        return len(self.adj)\n",
    "\n",
    "\n",
    "    def __str__(self):\n",
    "        return '{}({})'.format(self.__class__.__name__, dict(self.adj))\n",
    "\n",
    "\n",
    "    def __getitem__(self, v):\n",
    "        return self.adj[v]"
   ]
  },
  {
   "cell_type": "markdown",
   "metadata": {},
   "source": [
    "# Implementação do método Simulated Annealing"
   ]
  },
  {
   "cell_type": "code",
   "execution_count": 9,
   "metadata": {},
   "outputs": [],
   "source": [
    "def simulated_annealing(r, itera, pi, pf, numVertices, numArestas, k, pesos):\n",
    "    # Inicialização\n",
    "    sol = sol_inicial(numVertices, numArestas, k)\n",
    "    t = temp_inicial(sol, r, itera, pi, numVertices, numArestas, k, pesos)\n",
    "    contPf = 0\n",
    "    pesoAtual = peso_sol(sol, numVertices, numArestas, k, pesos)\n",
    "    \n",
    "    # Laço\n",
    "    while contPf < 5: # se >= 5, temperatura esfriou\n",
    "        movFact = 0\n",
    "        tentativaMov = 0\n",
    "        \n",
    "        for i in range(itera):\n",
    "            novaSol = gera_vizinho(sol, numVertices, k) #novaSol -> sol \"alternativa\"\n",
    "            pesoCandidato = pesol_sol(novaSol, numVertices, numArestas, k, pesos)\n",
    "            \n",
    "            if delta <= 0: # se for movimento de descida\n",
    "                sol = novaSol\n",
    "                pesoAtual = pesoCandidato\n",
    "                contPf = 0\n",
    "                \n",
    "                if delta > 0: # se for movimento de subida\n",
    "                    tentativaMov += 1\n",
    "                    r = random_zero_um() # número entre 0 e 1\n",
    "                    \n",
    "                    if r < math.exp(delta/t): # e^(delta/t)\n",
    "                        movFact += 1\n",
    "                        sol = novaSol\n",
    "                        pesoAtual = pesoCandidato\n",
    "        \n",
    "        if tentativaMov > 0:\n",
    "            if pf > (movFact/tentativMov):\n",
    "                contPF += 1 # esfria\n",
    "        \n",
    "        t = t * r # reduz a temperatura\n",
    "    \n",
    "    return sol\n",
    "                    "
   ]
  },
  {
   "cell_type": "markdown",
   "metadata": {},
   "source": [
    "# Perguntas:\n",
    "a variável r é inteira ou real?\n",
    "\n",
    "o que vai definir as variáveis pi e pf? elas vão ser entradas do usuário? como que se decide essas variáveis?"
   ]
  }
 ],
 "metadata": {
  "kernelspec": {
   "display_name": "Python 2",
   "language": "python",
   "name": "python2"
  },
  "language_info": {
   "codemirror_mode": {
    "name": "ipython",
    "version": 2
   },
   "file_extension": ".py",
   "mimetype": "text/x-python",
   "name": "python",
   "nbconvert_exporter": "python",
   "pygments_lexer": "ipython2",
   "version": "2.7.17"
  }
 },
 "nbformat": 4,
 "nbformat_minor": 2
}
